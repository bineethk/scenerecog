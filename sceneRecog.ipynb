{
  "nbformat": 4,
  "nbformat_minor": 0,
  "metadata": {
    "accelerator": "GPU",
    "colab": {
      "provenance": [],
      "toc_visible": true
    },
    "kernelspec": {
      "display_name": "Python 3",
      "name": "python3"
    }
  },
  "cells": [
    {
      "cell_type": "code",
      "metadata": {
        "id": "6cv3K3oaksJv"
      },
      "source": [
        "!pip install tflite-model-maker"
      ],
      "execution_count": null,
      "outputs": []
    },
    {
      "cell_type": "code",
      "metadata": {
        "id": "73eTDbG5y4bQ"
      },
      "source": [
        "!zip -r scenes-selected-5000.zip scenes-selected-5000"
      ],
      "execution_count": null,
      "outputs": []
    },
    {
      "cell_type": "code",
      "metadata": {
        "id": "HCp0HJlY8iQ8"
      },
      "source": [
        "from google.colab import drive\n",
        "drive.mount('/content/gdrive')"
      ],
      "execution_count": null,
      "outputs": []
    },
    {
      "cell_type": "code",
      "metadata": {
        "id": "TxcjyJ068nOq"
      },
      "source": [
        "import os\n",
        "os.environ['KAGGLE_CONFIG_DIR'] = \"/content/gdrive/MyDrive/Kaggle\""
      ],
      "execution_count": null,
      "outputs": []
    },
    {
      "cell_type": "code",
      "metadata": {
        "id": "NxCnp8v0Bx6z"
      },
      "source": [
        "!kaggle datasets download -d umeshsati54/scenes-selected-5000"
      ],
      "execution_count": null,
      "outputs": []
    },
    {
      "cell_type": "code",
      "metadata": {
        "id": "qlgjvwaUKExa"
      },
      "source": [
        "!unzip scenes-selected-5000.zip"
      ],
      "execution_count": null,
      "outputs": []
    },
    {
      "cell_type": "code",
      "metadata": {
        "id": "XtxiUeZEiXpt"
      },
      "source": [
        "import os\n",
        "\n",
        "import numpy as np\n",
        "\n",
        "import tensorflow as tf\n",
        "assert tf.__version__.startswith('2')\n",
        "\n",
        "from tflite_model_maker import configs\n",
        "from tflite_model_maker import ExportFormat\n",
        "from tflite_model_maker import image_classifier\n",
        "from tflite_model_maker import ImageClassifierDataLoader\n",
        "from tflite_model_maker import model_spec\n",
        "\n",
        "import matplotlib.pyplot as plt"
      ],
      "execution_count": null,
      "outputs": []
    },
    {
      "cell_type": "code",
      "metadata": {
        "id": "I_fOlZsklmlL"
      },
      "source": [
        "data = ImageClassifierDataLoader.from_folder(\"/content/scenes-selected-5000/scenes-selected-5000\")"
      ],
      "execution_count": null,
      "outputs": []
    },
    {
      "cell_type": "code",
      "metadata": {
        "id": "cY4UU5SUobtJ"
      },
      "source": [
        "train_data, validation_data = data.split(0.6)"
      ],
      "execution_count": null,
      "outputs": []
    },
    {
      "cell_type": "code",
      "metadata": {
        "id": "Ih4Wx44I482b"
      },
      "source": [
        "plt.figure(figsize=(10,10))\n",
        "for i, (image, label) in enumerate(data.gen_dataset().unbatch().take(25)):\n",
        "  plt.subplot(5,5,i+1)\n",
        "  plt.xticks([])\n",
        "  plt.yticks([])\n",
        "  plt.grid(False)\n",
        "  plt.imshow(image.numpy(), cmap=plt.cm.gray)\n",
        "  plt.xlabel(data.index_to_label[label.numpy()])\n",
        "plt.show()"
      ],
      "execution_count": null,
      "outputs": []
    },
    {
      "cell_type": "code",
      "metadata": {
        "id": "-BuNCxw25Gum"
      },
      "source": [
        "##############\n",
        "model = image_classifier.create(train_data, model_spec=model_spec.efficientnet_lite4_spec, validation_data=validation_data, train_whole_model=True, shuffle=True,epochs=3)"
      ],
      "execution_count": null,
      "outputs": []
    },
    {
      "cell_type": "code",
      "metadata": {
        "id": "A8c2ZQ0J3Riy"
      },
      "source": [
        "loss, accuracy = model.evaluate(test_data)"
      ],
      "execution_count": null,
      "outputs": []
    },
    {
      "cell_type": "code",
      "metadata": {
        "id": "n9O9Kx7nDQWD"
      },
      "source": [
        "def get_label_color(val1, val2):\n",
        "  if val1 == val2:\n",
        "    return 'black'\n",
        "  else:\n",
        "    return 'red'\n",
        "plt.figure(figsize=(20, 20))\n",
        "predicts = model.predict_top_k(test_data)\n",
        "for i, (image, label) in enumerate(test_data.gen_dataset().unbatch().take(100)):\n",
        "  ax = plt.subplot(10, 10, i+1)\n",
        "  plt.xticks([])\n",
        "  plt.yticks([])\n",
        "  plt.grid(False)\n",
        "  plt.imshow(image.numpy(), cmap=plt.cm.gray)\n",
        "\n",
        "  predict_label = predicts[i][0][0]\n",
        "  color = get_label_color(predict_label,\n",
        "                          test_data.index_to_label[label.numpy()])\n",
        "  ax.xaxis.label.set_color(color)\n",
        "  plt.xlabel('Predicted: %s' % predict_label)\n",
        "plt.show()"
      ],
      "execution_count": null,
      "outputs": []
    },
    {
      "cell_type": "code",
      "metadata": {
        "id": "kmZdHiCfjh8G"
      },
      "source": [
        "!zip -r model_0.9481.zip model_0.9481"
      ],
      "execution_count": null,
      "outputs": []
    },
    {
      "cell_type": "code",
      "metadata": {
        "id": "BvxWsOTmKG4P"
      },
      "source": [
        "model.export(export_dir='.', export_format=[ExportFormat.LABEL,ExportFormat.TFLITE,ExportFormat.SAVED_MODEL])"
      ],
      "execution_count": null,
      "outputs": []
    },
    {
      "cell_type": "code",
      "metadata": {
        "id": "S1YoPX5wOK-u"
      },
      "source": [
        "model.evaluate_tflite('model.tflite', validation_data)"
      ],
      "execution_count": null,
      "outputs": []
    },
    {
      "cell_type": "code",
      "metadata": {
        "id": "k8hL2mstCxQl"
      },
      "source": [
        "config = configs.QuantizationConfig.create_full_integer_quantization(representative_data=validation_data, is_integer_only=True)\n",
        "con = configs.QuantizationConfig.create_dynamic_range_quantization()"
      ],
      "execution_count": null,
      "outputs": []
    },
    {
      "cell_type": "code",
      "metadata": {
        "id": "WTJzFQnJFMjr"
      },
      "source": [
        "model.export(export_dir='.', tflite_filename='model_quant_default.tflite', quantization_config=con)\n",
        "model.export(export_dir='.', tflite_filename='model_quant_int8.tflite', quantization_config=config)"
      ],
      "execution_count": null,
      "outputs": []
    },
    {
      "cell_type": "markdown",
      "metadata": {
        "id": "vMYfCpRkHoHq"
      },
      "source": [
        "#TESTING TFLITE MODEL"
      ]
    },
    {
      "cell_type": "code",
      "metadata": {
        "id": "NrHEBN4Bp9qM"
      },
      "source": [
        "IMAGE_SHAPE = (300, 300)\n",
        "TRAINING_DATA_DIR = 'scenes-selected-5000'\n",
        "\n",
        "datagen_kwargs = dict(rescale=1./255, validation_split=.1)\n",
        "test_datagen = tf.keras.preprocessing.image.ImageDataGenerator(**datagen_kwargs)\n",
        "test_generator = test_datagen.flow_from_directory(TRAINING_DATA_DIR, subset=\"validation\", shuffle=True,target_size=IMAGE_SHAPE,batch_size=100)"
      ],
      "execution_count": null,
      "outputs": []
    },
    {
      "cell_type": "code",
      "metadata": {
        "id": "yh6_KbOCts3r"
      },
      "source": [
        "# Learn about dataset labels\n",
        "dataset_labels = sorted(test_generator.class_indices.items(), key=lambda pair:pair[1])\n",
        "dataset_labels = np.array([key.title() for key, value in dataset_labels])\n",
        "print(dataset_labels)"
      ],
      "execution_count": null,
      "outputs": []
    },
    {
      "cell_type": "code",
      "metadata": {
        "id": "P63pc1l0q7gI"
      },
      "source": [
        "# Get images and labels batch from test dataset generator\n",
        "test_image_batch, test_label_batch = next(iter(test_generator))\n",
        "true_label_ids = np.argmax(test_label_batch, axis=-1)\n",
        "print(\"test batch shape:\", test_image_batch.shape)"
      ],
      "execution_count": null,
      "outputs": []
    },
    {
      "cell_type": "code",
      "metadata": {
        "id": "FI2qsqrtqKiw"
      },
      "source": [
        "#TESTING TFLITE MODEL\n",
        "tflite_interpreter = tf.lite.Interpreter(model_path='model_0.9481.tflite')\n",
        "\n",
        "input_details = tflite_interpreter.get_input_details()\n",
        "output_details = tflite_interpreter.get_output_details()\n",
        "\n",
        "print(\"== Input details ==\")\n",
        "print(\"name:\", input_details[0]['name'])\n",
        "print(\"shape:\", input_details[0]['shape'])\n",
        "print(\"type:\", input_details[0]['dtype'])\n",
        "\n",
        "print(\"\\n== Output details ==\")\n",
        "print(\"name:\", output_details[0]['name'])\n",
        "print(\"shape:\", output_details[0]['shape'])\n",
        "print(\"type:\", output_details[0]['dtype'])"
      ],
      "execution_count": null,
      "outputs": []
    },
    {
      "cell_type": "code",
      "metadata": {
        "id": "cADBuGYsqpe-"
      },
      "source": [
        "tflite_interpreter.resize_tensor_input(input_details[0]['index'], (100, 300, 300, 3))\n",
        "tflite_interpreter.resize_tensor_input(output_details[0]['index'], (100, 15))\n",
        "tflite_interpreter.allocate_tensors()\n",
        "\n",
        "input_details = tflite_interpreter.get_input_details()\n",
        "output_details = tflite_interpreter.get_output_details()\n",
        "\n",
        "print(\"== Input details ==\")\n",
        "print(\"name:\", input_details[0]['name'])\n",
        "print(\"shape:\", input_details[0]['shape'])\n",
        "print(\"type:\", input_details[0]['dtype'])\n",
        "\n",
        "print(\"\\n== Output details ==\")\n",
        "print(\"name:\", output_details[0]['name'])\n",
        "print(\"shape:\", output_details[0]['shape'])\n",
        "print(\"type:\", output_details[0]['dtype'])"
      ],
      "execution_count": null,
      "outputs": []
    },
    {
      "cell_type": "code",
      "metadata": {
        "id": "uOg-1-xNqwiL"
      },
      "source": [
        "tflite_interpreter.set_tensor(input_details[0]['index'], test_image_batch)\n",
        "\n",
        "tflite_interpreter.invoke()\n",
        "\n",
        "tflite_model_predictions = tflite_interpreter.get_tensor(output_details[0]['index'])\n",
        "print(\"Prediction results shape:\", tflite_model_predictions.shape)\n"
      ],
      "execution_count": null,
      "outputs": []
    },
    {
      "cell_type": "code",
      "metadata": {
        "id": "DxKQ8xTCdYCN"
      },
      "source": [
        "# Convert prediction results to Pandas dataframe, for better visualization\n",
        "import pandas as pd\n",
        "\n",
        "tflite_pred_dataframe = pd.DataFrame(tflite_model_predictions)\n",
        "tflite_pred_dataframe.columns = dataset_labels\n",
        "\n",
        "print(\"TFLite prediction results for the first elements\")\n",
        "tflite_pred_dataframe.head()"
      ],
      "execution_count": null,
      "outputs": []
    },
    {
      "cell_type": "code",
      "metadata": {
        "id": "7ellbxJ1dhkw"
      },
      "source": [
        "# Print images batch and labels predictions for TFLite Model\n",
        "import matplotlib.pyplot as plt\n",
        "\n",
        "tflite_predicted_ids = np.argmax(tflite_model_predictions, axis=-1)\n",
        "tflite_predicted_labels = dataset_labels[tflite_predicted_ids]\n",
        "tflite_label_id = np.argmax(test_label_batch, axis=-1)\n",
        "\n",
        "plt.figure(figsize=(15,15))\n",
        "plt.subplots_adjust(hspace=0.5)\n",
        "for n in range(100):\n",
        "  plt.subplot(10,10,n+1)\n",
        "  plt.imshow(test_image_batch[n])\n",
        "  color = \"green\" if tflite_predicted_ids[n] == true_label_ids[n] else \"red\"\n",
        "  plt.title(tflite_predicted_labels[n].title(), color=color)\n",
        "  plt.axis('off')\n",
        "_ = plt.suptitle(\"TFLite model predictions (green: correct, red: incorrect)\")"
      ],
      "execution_count": null,
      "outputs": []
    },
    {
      "cell_type": "markdown",
      "metadata": {
        "id": "HydJOu3tdlQq"
      },
      "source": [
        "##Performance Matrices for 10000 images"
      ]
    },
    {
      "cell_type": "code",
      "metadata": {
        "id": "BDUai7qVC6M2"
      },
      "source": [
        "!pip install --upgrade --force-reinstall --no-deps kaggle"
      ],
      "execution_count": null,
      "outputs": []
    },
    {
      "cell_type": "code",
      "metadata": {
        "id": "4Pi3rMp58UKB"
      },
      "source": [
        "!kaggle datasets download -d binsbins/scenes-test-dataset"
      ],
      "execution_count": null,
      "outputs": []
    },
    {
      "cell_type": "code",
      "metadata": {
        "id": "fkdMWzM6J0t6"
      },
      "source": [
        "!unzip archive.zip"
      ],
      "execution_count": null,
      "outputs": []
    },
    {
      "cell_type": "code",
      "metadata": {
        "id": "mxC5mgEU53wm"
      },
      "source": [
        "import os\n",
        "import numpy as np\n",
        "import tensorflow as tf\n",
        "\n",
        "IMAGE_SHAPE = (300, 300)\n",
        "TRAINING_DATA_DIR = '/content/test'\n",
        "\n",
        "datagen_kwargs = dict(rescale=1./255)\n",
        "test_datagen = tf.keras.preprocessing.image.ImageDataGenerator(**datagen_kwargs)\n",
        "test_generator = test_datagen.flow_from_directory(TRAINING_DATA_DIR, shuffle=True,target_size=IMAGE_SHAPE,batch_size=1)\n",
        "\n",
        "\n",
        "# Learn about dataset labels\n",
        "dataset_labels = sorted(test_generator.class_indices.items(), key=lambda pair:pair[1])\n",
        "dataset_labels = np.array([key.title() for key, value in dataset_labels])\n",
        "print(dataset_labels)\n",
        "\n",
        "\n",
        "true_= None\n",
        "for i in range(7577):\n",
        "  # Get images and labels batch from test dataset generator\n",
        "  test_image_batch, test_label_batch = next(iter(test_generator))\n",
        "  if i==0:\n",
        "    true_ = test_label_batch\n",
        "  else:\n",
        "    true_ = np.append(true_, test_label_batch, axis=0)\n",
        "  true_label_ids = np.argmax(test_label_batch, axis=-1)\n",
        "  #print(\"test batch shape:\", test_image_batch.shape)\n",
        "  print('Testing on ',(i+1)*1)\n",
        "\n",
        "  tflite_interpreter = tf.lite.Interpreter(model_path='model.tflite')\n",
        "\n",
        "  input_details = tflite_interpreter.get_input_details()\n",
        "  output_details = tflite_interpreter.get_output_details()\n",
        "\n",
        "  tflite_interpreter.resize_tensor_input(input_details[0]['index'], (1, 300, 300, 3))\n",
        "  tflite_interpreter.resize_tensor_input(output_details[0]['index'], (1, 15))\n",
        "  tflite_interpreter.allocate_tensors()\n",
        "\n",
        "  input_details = tflite_interpreter.get_input_details()\n",
        "  output_details = tflite_interpreter.get_output_details()\n",
        "\n",
        "  tflite_interpreter.set_tensor(input_details[0]['index'], test_image_batch)\n",
        "\n",
        "  tflite_interpreter.invoke()\n",
        "  if i==0:\n",
        "    tflite_model_predictions = tflite_interpreter.get_tensor(output_details[0]['index'])\n",
        "  else:\n",
        "    temp = tflite_interpreter.get_tensor(output_details[0]['index'])\n",
        "    tflite_model_predictions = np.append(tflite_model_predictions, temp, axis=0)\n",
        "  \n",
        "  del tflite_interpreter"
      ],
      "execution_count": null,
      "outputs": []
    },
    {
      "cell_type": "code",
      "metadata": {
        "id": "HHAUotBhmAqJ"
      },
      "source": [
        "from sklearn.metrics import confusion_matrix\n",
        "import pandas as pd\n",
        "import seaborn as sn\n",
        "import matplotlib.pyplot as plt\n",
        "%matplotlib inline\n",
        "import numpy as np\n",
        "\n",
        "tflite_predicted_ids1 = np.argmax(tflite_model_predictions, axis=-1)\n",
        "true_label_ids1 = np.argmax(true_, axis=-1)\n",
        "\n",
        "y_true = dataset_labels[np.argmax(true_, axis=-1)]\n",
        "y_pred = dataset_labels[np.argmax(tflite_model_predictions, axis=-1)]\n",
        "data = confusion_matrix(y_true, y_pred)\n",
        "df_cm = pd.DataFrame(data, columns=np.unique(y_true), index = np.unique(y_true))\n",
        "df_cm.index.name = 'Predicted'\n",
        "df_cm.columns.name = 'Actual'\n",
        "plt.figure(figsize = (17,15))\n",
        "sn.set(font_scale=1.4)#for label size\n",
        "sn.heatmap(df_cm, cmap=\"Blues\", annot=True,annot_kws={\"size\": 12},fmt='g')# font size"
      ],
      "execution_count": null,
      "outputs": []
    },
    {
      "cell_type": "markdown",
      "metadata": {
        "id": "1WcPnMNHhGhl"
      },
      "source": [
        "## ACCURACY FOR EACH CLASS"
      ]
    },
    {
      "cell_type": "code",
      "metadata": {
        "id": "CTfFQFAmfe-S"
      },
      "source": [
        "accu = {}\n",
        "tflite_predicted_ids1 = np.argmax(tflite_model_predictions, axis=-1)\n",
        "true_label_ids1 = np.argmax(true_, axis=-1)\n",
        "for i in range(len(true_label_ids1)):\n",
        "  if true_label_ids1[i] == tflite_predicted_ids1[i]:\n",
        "    accu[str(dataset_labels[true_label_ids1[i]])] = 0\n",
        "\n",
        "for i in range(len(true_label_ids1)):\n",
        "  if true_label_ids1[i] == tflite_predicted_ids1[i]:\n",
        "    accu[str(dataset_labels[true_label_ids1[i]])] += 1\n",
        "\n",
        "pred = list(tflite_predicted_ids1)\n",
        "true = list(true_label_ids1)\n",
        "for i in range(15):\n",
        "  print(dataset_labels[i],'-', round(accu[dataset_labels[i]]/true.count(i)*100,2),'%')\n",
        "\n",
        "#print(accu)"
      ],
      "execution_count": null,
      "outputs": []
    },
    {
      "cell_type": "markdown",
      "metadata": {
        "id": "df9tDJixLGbW"
      },
      "source": [
        "##ROC CURVE FOR EACH CLASS"
      ]
    },
    {
      "cell_type": "code",
      "metadata": {
        "id": "5vQzAcwaJf_l"
      },
      "source": [
        "from sklearn.metrics import roc_curve, auc\n",
        "\n",
        "def plot_roc_curve(fpr,tpr,title): \n",
        "  plt.plot(fpr,tpr) \n",
        "  plt.axis([0,1,0,1]) \n",
        "  plt.title(title)\n",
        "  plt.xlabel('False Positive Rate') \n",
        "  plt.ylabel('True Positive Rate') \n",
        "  plt.show()    \n",
        "  \n",
        "for i in range(15):\n",
        "  title = dataset_labels[i]\n",
        "  fpr, tpr, thresholds = roc_curve(np.argmax(true_, axis=-1), tflite_model_predictions.max(axis=1)[:,None], pos_label=i)\n",
        "  plot_roc_curve (fpr,tpr,title)"
      ],
      "execution_count": null,
      "outputs": []
    },
    {
      "cell_type": "markdown",
      "metadata": {
        "id": "9yCdunrzHpe-"
      },
      "source": [
        "##F1 score"
      ]
    },
    {
      "cell_type": "code",
      "metadata": {
        "id": "-3ufl5C85XFN"
      },
      "source": [
        "#https://www.tensorflow.org/api_docs/python/tf/keras/metrics/AUC\n",
        "import tensorflow_addons as tfa\n",
        "metric = tfa.metrics.F1Score(num_classes=15, threshold=0.5)\n",
        "\n",
        "metric.update_state(true_, tflite_model_predictions)\n",
        "\n",
        "result = metric.result()\n",
        "result.numpy()\n",
        "\n",
        "#['Bathroom' 'Bedroom' 'Bridge' 'Cafeteria' 'Classroom'\n",
        "# 'Computer_Room' 'Dining_Hall' 'Hospital_Room' 'Kitchen' 'Library_Indoor'\n",
        "# 'Parking_Lot' 'Playground' 'River' 'Shopfront' 'Supermarket']"
      ],
      "execution_count": null,
      "outputs": []
    },
    {
      "cell_type": "markdown",
      "metadata": {
        "id": "PmJux2TxIDKf"
      },
      "source": [
        "##Precision"
      ]
    },
    {
      "cell_type": "code",
      "metadata": {
        "id": "1ZCz1Vke-jjv"
      },
      "source": [
        "for i in range(15):\n",
        "  m = tf.keras.metrics.Precision(class_id=i)\n",
        "  m.update_state(true_, tflite_model_predictions)\n",
        "  print(m.result().numpy())"
      ],
      "execution_count": null,
      "outputs": []
    },
    {
      "cell_type": "markdown",
      "metadata": {
        "id": "0OkDQWn0IIj-"
      },
      "source": [
        "##Recall"
      ]
    },
    {
      "cell_type": "code",
      "metadata": {
        "id": "-BoT8yn_-w-H"
      },
      "source": [
        "for i in range(15):\n",
        "  m = tf.keras.metrics.Recall(class_id=i)\n",
        "  m.update_state(true_, tflite_model_predictions)\n",
        "  print(m.result().numpy())"
      ],
      "execution_count": null,
      "outputs": []
    },
    {
      "cell_type": "markdown",
      "metadata": {
        "id": "xoqsaZ_fINUK"
      },
      "source": [
        "##Mean Absolute Error"
      ]
    },
    {
      "cell_type": "code",
      "metadata": {
        "id": "LyrIfPUNGUcf"
      },
      "source": [
        "m = tf.keras.metrics.MeanAbsoluteError()\n",
        "m.update_state(true_, tflite_model_predictions)\n",
        "m.result().numpy()"
      ],
      "execution_count": null,
      "outputs": []
    },
    {
      "cell_type": "markdown",
      "metadata": {
        "id": "8DmYGh5rIRj4"
      },
      "source": [
        "##Mean Squared Error"
      ]
    },
    {
      "cell_type": "code",
      "metadata": {
        "id": "jlKZc-GHGqkL"
      },
      "source": [
        "m = tf.keras.metrics.MeanSquaredError()\n",
        "m.update_state(true_, tflite_model_predictions)\n",
        "m.result().numpy()"
      ],
      "execution_count": null,
      "outputs": []
    },
    {
      "cell_type": "markdown",
      "metadata": {
        "id": "3N_XjuSXIWmp"
      },
      "source": [
        "## Area Under Curve"
      ]
    },
    {
      "cell_type": "code",
      "metadata": {
        "id": "BkEea8vdHVlI"
      },
      "source": [
        "m = tf.keras.metrics.AUC(num_thresholds=3)\n",
        "m.update_state(true_, tflite_model_predictions)\n",
        "m.result().numpy()"
      ],
      "execution_count": null,
      "outputs": []
    },
    {
      "cell_type": "markdown",
      "metadata": {
        "id": "Hu28a77hImce"
      },
      "source": [
        "##Confusion Matrix\n",
        "\n",
        "\n",
        "*   true negatives for class i in M(0,0)\n",
        "*   false positives for class i in M(0,1)\n",
        "\n",
        "*   false negatives for class i in M(1,0)\n",
        "*   true positives for class i in M(1,1)\n"
      ]
    },
    {
      "cell_type": "code",
      "metadata": {
        "id": "OwnytYJoBJ8_"
      },
      "source": [
        "metric = tfa.metrics.MultiLabelConfusionMatrix(num_classes=15)\n",
        "metric.update_state(true_, (tflite_model_predictions == tflite_model_predictions.max(axis=1)[:,None]).astype(int))\n",
        "result = metric.result()\n",
        "result.numpy().astype(int)"
      ],
      "execution_count": null,
      "outputs": []
    },
    {
      "cell_type": "code",
      "metadata": {
        "id": "mDIyzYnPlfOh"
      },
      "source": [
        "import seaborn as sn\n",
        "import pandas as pd\n",
        "import matplotlib.pyplot as plt\n",
        "import numpy as np\n",
        "\n",
        "arr = result.numpy().astype(int)\n",
        "\n",
        "labels = ['Bathroom' ,'Bedroom' ,'Bridge' ,'Cafeteria' ,'Classroom' ,'Computer_Room'\n",
        " ,'Dining_Hall' ,'Hospital_Room' ,'Kitchen' ,'Library_Indoor' ,'Parking_Lot'\n",
        " ,'Playground' ,'River' ,'Shopfront' ,'Supermarket']\n",
        "\n",
        "fig,ax = plt.subplots(ncols=3,nrows=5)\n",
        "fig.set_size_inches(15,15)\n",
        "\n",
        "for i in range(15):\n",
        "  ax_ = ax.flat[i]\n",
        "  df_cm = pd.DataFrame(arr[i], range(2), range(2))\n",
        "  sn.heatmap(df_cm, annot=True, annot_kws={\"size\": 16},fmt='g',ax=ax_) # font size\n",
        "  ax_.set_title(labels[i])\n",
        "  #plt.show()"
      ],
      "execution_count": null,
      "outputs": []
    },
    {
      "cell_type": "markdown",
      "metadata": {
        "id": "9jZereq8any-"
      },
      "source": [
        "##Test on Single Image"
      ]
    },
    {
      "cell_type": "code",
      "metadata": {
        "id": "ikovPHZKkpBU"
      },
      "source": [
        "import numpy as np\n",
        "import tensorflow as tf\n",
        "import cv2\n",
        "import pathlib\n",
        "\n",
        "dataset_labels = ['Bathroom', 'Bedroom', 'Bridge', 'Cafeteria', 'Classroom', 'Computer_Room', 'Dining_Hall', 'Hospital_Room', 'Kitchen', 'Library_Indoor', 'Parking_Lot','Playground', 'River', 'Shopfront', 'Supermarket']\n",
        "\n",
        "interpreter = tf.lite.Interpreter(model_path=\"model_0.9481.tflite\")\n",
        "\n",
        "input_details = interpreter.get_input_details()\n",
        "output_details = interpreter.get_output_details()\n",
        "\n",
        "interpreter.allocate_tensors()\n",
        "\n",
        "img_path = '/content/parking-in-philadelphia.jpg'\n",
        "img = cv2.imread(img_path)\n",
        "img = np.array(img, dtype=np.float32)\n",
        "new_img = cv2.resize(img, (300, 300))\n",
        "\n",
        "interpreter.set_tensor(input_details[0]['index'], [new_img])\n",
        "interpreter.invoke()\n",
        "\n",
        "output_data = interpreter.get_tensor(output_details[0]['index'])\n",
        "tflite_predicted_ids = np.argmax(output_data, axis=-1)\n",
        "flite_predicted_labels = dataset_labels[tflite_predicted_ids[0]]\n",
        "print(\"For file {}, the output is {}\".format(img_path, flite_predicted_labels))"
      ],
      "execution_count": null,
      "outputs": []
    }
  ]
}